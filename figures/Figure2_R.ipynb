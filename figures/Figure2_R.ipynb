{
 "cells": [
  {
   "cell_type": "markdown",
   "metadata": {},
   "source": [
    "## Panel B"
   ]
  },
  {
   "cell_type": "code",
   "execution_count": 1,
   "metadata": {},
   "outputs": [],
   "source": [
    "library(treemap)"
   ]
  },
  {
   "cell_type": "code",
   "execution_count": 2,
   "metadata": {},
   "outputs": [],
   "source": [
    "data <- read.csv(file.path('..','data','interim','data_for_treemap.csv'))"
   ]
  },
  {
   "cell_type": "code",
   "execution_count": 8,
   "metadata": {},
   "outputs": [
    {
     "name": "stderr",
     "output_type": "stream",
     "text": [
      "Warning message in `[.data.table`(dtfDT, , `:=`(\"c\", fact), with = FALSE):\n",
      "“with=FALSE ignored, it isn't needed when using :=. See ?':=' for examples.”\n"
     ]
    },
    {
     "data": {
      "text/html": [
       "<strong>png:</strong> 2"
      ],
      "text/latex": [
       "\\textbf{png:} 2"
      ],
      "text/markdown": [
       "**png:** 2"
      ],
      "text/plain": [
       "png \n",
       "  2 "
      ]
     },
     "metadata": {},
     "output_type": "display_data"
    }
   ],
   "source": [
    "pdf(file = file.path('raw_figures','Fig2c_treemap.pdf'),\n",
    "    width = 8.5,\n",
    "    height = 7)\n",
    "\n",
    "\n",
    "treemap(data,\n",
    "            index=c(\"function.\",\"iModulon\"),\n",
    "            vSize=\"size\",\n",
    "            type=\"categorical\",\n",
    "            vColor='function.',\n",
    "            fontsize.labels=14,\n",
    "            palette='Set2',\n",
    "            )\n",
    "\n",
    "dev.off()"
   ]
  },
  {
   "cell_type": "markdown",
   "metadata": {},
   "source": [
    "## Panel D"
   ]
  },
  {
   "cell_type": "code",
   "execution_count": 18,
   "metadata": {},
   "outputs": [],
   "source": [
    "library('VennDiagram')"
   ]
  },
  {
   "cell_type": "code",
   "execution_count": 19,
   "metadata": {},
   "outputs": [
    {
     "data": {
      "text/plain": [
       "(polygon[GRID.polygon.758], polygon[GRID.polygon.759], polygon[GRID.polygon.760], polygon[GRID.polygon.761], polygon[GRID.polygon.762], polygon[GRID.polygon.763], polygon[GRID.polygon.764], polygon[GRID.polygon.765], text[GRID.text.766], text[GRID.text.767], text[GRID.text.768], text[GRID.text.769], text[GRID.text.770], text[GRID.text.771], text[GRID.text.772], text[GRID.text.773], text[GRID.text.774], text[GRID.text.775], text[GRID.text.776], text[GRID.text.777], text[GRID.text.778], text[GRID.text.779], text[GRID.text.780], text[GRID.text.781], text[GRID.text.782], text[GRID.text.783], text[GRID.text.784]) "
      ]
     },
     "metadata": {},
     "output_type": "display_data"
    },
    {
     "data": {
      "text/html": [
       "<strong>png:</strong> 2"
      ],
      "text/latex": [
       "\\textbf{png:} 2"
      ],
      "text/markdown": [
       "**png:** 2"
      ],
      "text/plain": [
       "png \n",
       "  2 "
      ]
     },
     "metadata": {},
     "output_type": "display_data"
    }
   ],
   "source": [
    "pdf(file = file.path('raw_figures','Fig2e_SigB_venn.pdf'),\n",
    "    width = 4,\n",
    "    height = 4)\n",
    "\n",
    "draw.quad.venn(53, 221, 56, 83, 51, 16, 20, 39, 62, 11, 16, 19, 2, 11, 2,\n",
    "               category = c(\"SigB-1\\niModulon\", \"SigB\\nRegulon\", \"SigB-2\\niModulon\", \"SigB-3\\niModulon\"),\n",
    "               cex = 1.5,\n",
    "               cat.cex = 1.5,\n",
    "               fontfamily='sans',\n",
    "               cat.fontfamily='sans',\n",
    "               fill = c('#4e79a7','#59a14f','#f28e2b','#e15759'))\n",
    "\n",
    "dev.off()"
   ]
  },
  {
   "cell_type": "code",
   "execution_count": null,
   "metadata": {},
   "outputs": [],
   "source": []
  }
 ],
 "metadata": {
  "kernelspec": {
   "display_name": "R",
   "language": "R",
   "name": "ir"
  },
  "language_info": {
   "codemirror_mode": "r",
   "file_extension": ".r",
   "mimetype": "text/x-r-source",
   "name": "R",
   "pygments_lexer": "r",
   "version": "4.0.3"
  }
 },
 "nbformat": 4,
 "nbformat_minor": 4
}
